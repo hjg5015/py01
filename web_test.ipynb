{
  "nbformat": 4,
  "nbformat_minor": 0,
  "metadata": {
    "colab": {
      "name": "web test.ipynb",
      "provenance": [],
      "include_colab_link": true
    },
    "kernelspec": {
      "name": "python3",
      "display_name": "Python 3"
    }
  },
  "cells": [
    {
      "cell_type": "markdown",
      "metadata": {
        "id": "view-in-github",
        "colab_type": "text"
      },
      "source": [
        "<a href=\"https://colab.research.google.com/github/hjg5015/py01/blob/master/web_test.ipynb\" target=\"_parent\"><img src=\"https://colab.research.google.com/assets/colab-badge.svg\" alt=\"Open In Colab\"/></a>"
      ]
    },
    {
      "cell_type": "code",
      "metadata": {
        "id": "BBqm8dPXEQX2",
        "colab_type": "code",
        "colab": {
          "base_uri": "https://localhost:8080/",
          "height": 55
        },
        "outputId": "518cd48a-1ad3-4060-a28e-0341acd86658"
      },
      "source": [
        "import requests\n",
        "from bs4 import BeautifulSoup\n",
        "\n",
        "url='https://www.inje.ac.kr/kor/Template/Bsub_page.asp?Ltype=5&Ltype2=3&Ltype3=3&Tname=S_Food&Ldir=board/S_Food&Lpage=s_food_view&d1n=5&d2n=4&d3n=4&d4n=0'\n",
        "source_code = requests.get(url)\n",
        "plain_text = source_code.text\n",
        "\n",
        "soup=BeautifulSoup(plain_text,'html.parser')\n",
        "number=0\n",
        "line=''\n",
        "data=soup.find_all('td',class_='tc')\n",
        "for title in data:\n",
        "  line=line+title.get_text()\n",
        "\n",
        "print(line)\n"
      ],
      "execution_count": 37,
      "outputs": [
        {
          "output_type": "stream",
          "text": [
            "A종일판매(즉석)뚝배기청양풍찜닭오이부추무침김자반볶음 (즉석)돼지국밥+소면사리새우젓,다대기둥근어묵볶음고추양파쌈장무침 <多仁 식육식당>통삼겹구이정식모듬쌈+쌈장쌈무,파채콩나물겉절이 (즉석)나주곰탕+국수사리김치전오징어젓갈 (즉석)뚝배기삼겹살김치찌개감자간장조림구이김+유장 B종일판매피자돈까스어린잎채소샐러드크로와상+딸기잼양송이스프 목살스테이크감자튀김+케찹샐러드+소스브로콜리스프 매콤치밥+눈꽃치즈양배추샐러드치킨무우동장국 사천짜장덮밥+계란후라이탕수육계란잔파국 연어회덮밥+와사비우동장국 C11:00~14:30스팸구이정식(스팸구이&계란후라이&고추참치&볶음김치&스쿱밥)----------------------------소라죽<한솥한정판매> 비빔칼국수----------------------------참치야채죽<한솥한정판매> 시저샐러드도시락(9가지 재료가 들어간“수제 시저드레싱”과 오븐에 구운 닭가슴살의 만남!!)----------------------------소고기야채죽<한솥한정판매> 뜨끈한차돌카레우동----------------------------닭야채죽<한솥한정판매> 뚝배기진라면돈까스김밥----------------------------낙지김치죽<한솥한정판매> C소진시까지판매설탕꽈배기<3개단돈2천원>--------------------컵과일<신선한과일듬뿍2,500원>하루전날 단체주문도 가능합니다. 설탕꽈배기<3개단돈2천원>--------------------컵과일<신선한과일듬뿍2,500원>하루전날 단체주문도 가능합니다. 설탕꽈배기<3개단돈2천원>--------------------컵과일<신선한과일듬뿍2,500원>하루전날 단체주문도 가능합니다. 설탕꽈배기<3개단돈2천원>--------------------컵과일<신선한과일듬뿍2,500원>하루전날 단체주문도 가능합니다. 설탕꽈배기<3개단돈2천원>--------------------컵과일<신선한과일듬뿍2,500원>하루전날 단체주문도 가능합니다. 추가찬셀프계란후라이도시락김 셀프계란후라이도시락김 셀프계란후라이도시락김 셀프계란후라이도시락김 셀프계란후라이도시락김 원산지작성된 식단이 없습니다.\n"
          ],
          "name": "stdout"
        }
      ]
    },
    {
      "cell_type": "code",
      "metadata": {
        "id": "Jqp0tDUOQakg",
        "colab_type": "code",
        "colab": {
          "base_uri": "https://localhost:8080/",
          "height": 665
        },
        "outputId": "3ad42063-a9a4-4b5c-8b3e-70b26bbbfd10"
      },
      "source": [
        "import requests\n",
        "from bs4 import BeautifulSoup\n",
        "\n",
        "url='https://www.inje.ac.kr/kor/Template/Bsub_page.asp?Ltype=5&Ltype2=3&Ltype3=3&Tname=S_Food&Ldir=board/S_Food&Lpage=s_food_view&d1n=5&d2n=4&d3n=4&d4n=0'\n",
        "source_code = requests.get(url)\n",
        "plain_text = source_code.text\n",
        "\n",
        "soup=BeautifulSoup(plain_text,'html.parser')\n",
        "for title in soup.find_all('td',class_='tc'):\n",
        "                           print(title.get_text())\n"
      ],
      "execution_count": 36,
      "outputs": [
        {
          "output_type": "stream",
          "text": [
            "A\n",
            "종일판매\n",
            "(즉석)뚝배기청양풍찜닭오이부추무침김자반볶음 \n",
            "(즉석)돼지국밥+소면사리새우젓,다대기둥근어묵볶음고추양파쌈장무침 \n",
            "<多仁 식육식당>통삼겹구이정식모듬쌈+쌈장쌈무,파채콩나물겉절이 \n",
            "(즉석)나주곰탕+국수사리김치전오징어젓갈 \n",
            "(즉석)뚝배기삼겹살김치찌개감자간장조림구이김+유장 \n",
            "B\n",
            "종일판매\n",
            "피자돈까스어린잎채소샐러드크로와상+딸기잼양송이스프 \n",
            "목살스테이크감자튀김+케찹샐러드+소스브로콜리스프 \n",
            "매콤치밥+눈꽃치즈양배추샐러드치킨무우동장국 \n",
            "사천짜장덮밥+계란후라이탕수육계란잔파국 \n",
            "연어회덮밥+와사비우동장국 \n",
            "C\n",
            "11:00~14:30\n",
            "스팸구이정식(스팸구이&계란후라이&고추참치&볶음김치&스쿱밥)----------------------------소라죽<한솥한정판매> \n",
            "비빔칼국수----------------------------참치야채죽<한솥한정판매> \n",
            "시저샐러드도시락(9가지 재료가 들어간“수제 시저드레싱”과 오븐에 구운 닭가슴살의 만남!!)----------------------------소고기야채죽<한솥한정판매> \n",
            "뜨끈한차돌카레우동----------------------------닭야채죽<한솥한정판매> \n",
            "뚝배기진라면돈까스김밥----------------------------낙지김치죽<한솥한정판매> \n",
            "C\n",
            "소진시까지판매\n",
            "설탕꽈배기<3개단돈2천원>--------------------컵과일<신선한과일듬뿍2,500원>하루전날 단체주문도 가능합니다. \n",
            "설탕꽈배기<3개단돈2천원>--------------------컵과일<신선한과일듬뿍2,500원>하루전날 단체주문도 가능합니다. \n",
            "설탕꽈배기<3개단돈2천원>--------------------컵과일<신선한과일듬뿍2,500원>하루전날 단체주문도 가능합니다. \n",
            "설탕꽈배기<3개단돈2천원>--------------------컵과일<신선한과일듬뿍2,500원>하루전날 단체주문도 가능합니다. \n",
            "설탕꽈배기<3개단돈2천원>--------------------컵과일<신선한과일듬뿍2,500원>하루전날 단체주문도 가능합니다. \n",
            "추가찬\n",
            "셀프계란후라이도시락김 \n",
            "셀프계란후라이도시락김 \n",
            "셀프계란후라이도시락김 \n",
            "셀프계란후라이도시락김 \n",
            "셀프계란후라이도시락김 \n",
            "원산지\n",
            "작성된 식단이 없습니다.\n"
          ],
          "name": "stdout"
        }
      ]
    }
  ]
}